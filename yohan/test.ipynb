{
 "cells": [
  {
   "cell_type": "code",
   "execution_count": 66,
   "metadata": {},
   "outputs": [],
   "source": [
    "import torch\n",
    "import torch.nn as nn"
   ]
  },
  {
   "cell_type": "code",
   "execution_count": 19,
   "metadata": {},
   "outputs": [
    {
     "data": {
      "text/plain": [
       "torch.Size([1, 4])"
      ]
     },
     "execution_count": 19,
     "metadata": {},
     "output_type": "execute_result"
    }
   ],
   "source": [
    "\n",
    "torch.Tensor([[ 1,  2,  3,  4]]).shape"
   ]
  },
  {
   "cell_type": "code",
   "execution_count": 40,
   "metadata": {},
   "outputs": [],
   "source": [
    "class Similarity(torch.nn.Module):\n",
    "    \"\"\"\n",
    "    Dot product or cosine similarity\n",
    "    \"\"\"\n",
    "    def __init__(self, temp=0.05):\n",
    "        super().__init__()\n",
    "        self.temp = temp\n",
    "        self.cos = torch.nn.CosineSimilarity(dim=-1)\n",
    "\n",
    "    def forward(self, x, y):\n",
    "        return self.cos(x, y) / self.temp"
   ]
  },
  {
   "cell_type": "code",
   "execution_count": 73,
   "metadata": {},
   "outputs": [
    {
     "name": "stdout",
     "output_type": "stream",
     "text": [
      "z1: torch.Size([2, 1, 3])\n",
      "torch.Size([2, 1, 1, 3])\n",
      "torch.Size([1, 2, 1, 3])\n"
     ]
    }
   ],
   "source": [
    "z1 = torch.FloatTensor([[[1, 2, 4]],[[1, 2, 4]]])\n",
    "z2 = torch.FloatTensor([[[1, 2, 4]],[[1, 2, 4]]])\n",
    "\n",
    "uns_z1 = torch.unsqueeze(z1, 1)\n",
    "uns_z2 = torch.unsqueeze(z2, 0)\n",
    "print('z1:', z1.shape)\n",
    "print(uns_z1.shape)\n",
    "print(uns_z2.shape)"
   ]
  },
  {
   "cell_type": "code",
   "execution_count": 74,
   "metadata": {},
   "outputs": [],
   "source": [
    "sim = Similarity()"
   ]
  },
  {
   "cell_type": "code",
   "execution_count": 75,
   "metadata": {},
   "outputs": [
    {
     "data": {
      "text/plain": [
       "tensor([[[20.0000],\n",
       "         [20.0000]],\n",
       "\n",
       "        [[20.0000],\n",
       "         [20.0000]]])"
      ]
     },
     "execution_count": 75,
     "metadata": {},
     "output_type": "execute_result"
    }
   ],
   "source": [
    "cos_sim = sim(uns_z1, uns_z2)\n",
    "cos_sim"
   ]
  },
  {
   "cell_type": "code",
   "execution_count": 60,
   "metadata": {},
   "outputs": [
    {
     "data": {
      "text/plain": [
       "torch.Size([2, 2, 1])"
      ]
     },
     "execution_count": 60,
     "metadata": {},
     "output_type": "execute_result"
    }
   ],
   "source": [
    "result.shape"
   ]
  },
  {
   "cell_type": "code",
   "execution_count": 61,
   "metadata": {},
   "outputs": [
    {
     "data": {
      "text/plain": [
       "torch.Size([2, 4, 1])"
      ]
     },
     "execution_count": 61,
     "metadata": {},
     "output_type": "execute_result"
    }
   ],
   "source": [
    "torch.cat([cos_sim, cos_sim], 1).shape"
   ]
  },
  {
   "cell_type": "code",
   "execution_count": 65,
   "metadata": {},
   "outputs": [
    {
     "data": {
      "text/plain": [
       "tensor([[[20.0000],\n",
       "         [20.0000]],\n",
       "\n",
       "        [[20.0000],\n",
       "         [20.0000]]])"
      ]
     },
     "execution_count": 65,
     "metadata": {},
     "output_type": "execute_result"
    }
   ],
   "source": [
    "cos_sim"
   ]
  },
  {
   "cell_type": "code",
   "execution_count": 63,
   "metadata": {},
   "outputs": [
    {
     "data": {
      "text/plain": [
       "torch.Size([2])"
      ]
     },
     "execution_count": 63,
     "metadata": {},
     "output_type": "execute_result"
    }
   ],
   "source": [
    "labels = torch.arange(cos_sim.size(0)).long()\n",
    "labels.shape"
   ]
  },
  {
   "cell_type": "code",
   "execution_count": 64,
   "metadata": {},
   "outputs": [
    {
     "data": {
      "text/plain": [
       "tensor([0, 1])"
      ]
     },
     "execution_count": 64,
     "metadata": {},
     "output_type": "execute_result"
    }
   ],
   "source": [
    "labels"
   ]
  },
  {
   "cell_type": "code",
   "execution_count": null,
   "metadata": {},
   "outputs": [],
   "source": [
    "def cross_entropy(\n",
    "    input: Tensor,\n",
    "    target: Tensor,\n",
    "    weight: Optional[Tensor] = None,\n",
    "    size_average: Optional[bool] = None,\n",
    "    ignore_index: int = -100,\n",
    "    reduce: Optional[bool] = None,\n",
    "    reduction: str = \"mean\",\n",
    "    label_smoothing: float = 0.0,\n",
    ") -> Tensor:\n",
    "\n",
    "    if has_torch_function_variadic(input, target, weight):\n",
    "        return handle_torch_function(\n",
    "            cross_entropy,\n",
    "            (input, target, weight),\n",
    "            input,\n",
    "            target,\n",
    "            weight=weight,\n",
    "            size_average=size_average,\n",
    "            ignore_index=ignore_index,\n",
    "            reduce=reduce,\n",
    "            reduction=reduction,\n",
    "            label_smoothing=label_smoothing,\n",
    "        )\n",
    "    if size_average is not None or reduce is not None:\n",
    "        reduction = _Reduction.legacy_get_string(size_average, reduce)\n",
    "    return torch._C._nn.cross_entropy_loss(input, target, weight, _Reduction.get_enum(reduction), ignore_index, label_smoothing)\n"
   ]
  },
  {
   "cell_type": "code",
   "execution_count": null,
   "metadata": {},
   "outputs": [],
   "source": [
    "class CrossEntropyLoss(_WeightedLoss):\n",
    "    __constants__ = ['ignore_index', 'reduction', 'label_smoothing']\n",
    "    ignore_index: int\n",
    "    label_smoothing: float\n",
    "\n",
    "    def __init__(self, weight: Optional[Tensor] = None, size_average=None, ignore_index: int = -100,\n",
    "                 reduce=None, reduction: str = 'mean', label_smoothing: float = 0.0) -> None:\n",
    "        super(CrossEntropyLoss, self).__init__(weight, size_average, reduce, reduction)\n",
    "        self.ignore_index = ignore_index\n",
    "        self.label_smoothing = label_smoothing\n",
    "\n",
    "    def forward(self, input: Tensor, target: Tensor) -> Tensor:\n",
    "        return F.cross_entropy(input, target, weight=self.weight,\n",
    "                               ignore_index=self.ignore_index, reduction=self.reduction,\n",
    "                               label_smoothing=self.label_smoothing)\n",
    "\n"
   ]
  },
  {
   "cell_type": "code",
   "execution_count": null,
   "metadata": {},
   "outputs": [],
   "source": [
    "loss_fct = nn.CrossEntropyLoss()"
   ]
  },
  {
   "cell_type": "code",
   "execution_count": null,
   "metadata": {},
   "outputs": [],
   "source": [
    "loss = loss_fct(cos_sim, labels)"
   ]
  }
 ],
 "metadata": {
  "kernelspec": {
   "display_name": "Python 3.8.13 ('review': conda)",
   "language": "python",
   "name": "python3"
  },
  "language_info": {
   "codemirror_mode": {
    "name": "ipython",
    "version": 3
   },
   "file_extension": ".py",
   "mimetype": "text/x-python",
   "name": "python",
   "nbconvert_exporter": "python",
   "pygments_lexer": "ipython3",
   "version": "3.8.13"
  },
  "orig_nbformat": 4,
  "vscode": {
   "interpreter": {
    "hash": "62924353be2d6998b04c83d0e210e35559f7d4fed57bef9b7971c9483623c7fd"
   }
  }
 },
 "nbformat": 4,
 "nbformat_minor": 2
}
